{
 "cells": [
  {
   "cell_type": "code",
   "execution_count": 1,
   "metadata": {},
   "outputs": [],
   "source": [
    "from Graph import *\n",
    "import time"
   ]
  },
  {
   "cell_type": "markdown",
   "metadata": {},
   "source": [
    "## Vhodni podatki\n",
    "\n",
    "Vhodne podatke preberemo iz datoteke, ki smo jo naredili s pomočjo nauty traces in ukaza geng -c n.\n",
    "V repozitoriju se trenutno nahajajo primeri za grafe velikosti 5, 8 in 9."
   ]
  },
  {
   "cell_type": "code",
   "execution_count": 2,
   "metadata": {},
   "outputs": [],
   "source": [
    "G = read_graph6(\"graph_examples/graphs_8.txt\")\n"
   ]
  },
  {
   "cell_type": "markdown",
   "metadata": {},
   "source": [
    "## Reševanje problema\n",
    "\n",
    "Reševanja problema se lotimo na 2 načina. Prvi bo poizkušal minimizirati število konfliktov v grafu v polinomskem času. Konflikt je taka povezava $(u,v) \\in E(G)$ za katero velja $\\omega(u) = \\omega(v)$. Drugi način bo vzel *neoznačeno* povezavo $e$ in problem razdelil na $3$ podprobleme, kjer bo v vsakem nastavil utež na tej povezavi na 1, 2 ali 3. \n",
    "\n",
    "Graf predstavimo z nekaj dodatnimi podatkovnimi strukturami, ki nam omogočajo laže reševanje konfliktov. To so:\n",
    "* `edge_weights` : slovar, ki vsaki povezavi dodeli neko utež\n",
    "* `node_sums` : slovar, ki vsakemu vozlišču dodeli njegovo utež, torej vsoto uteži na incidenčnih povezavah\n",
    "* `sums` : slovar, ki vsaki  možni vsoti uteži dodeli seznam vozlišč, ki imajo to utež.\n",
    "* `conflicts` : Množica konfliktinih povezav.\n",
    "* `history` : Slovar, ki povezavi dodeli neko *označeno* vrednost in vrsti red dodelitve. Označene povezave kasneje ne morejo biti spremenjene.\n",
    "\n",
    "Na začetku izvajanja nastavimo grafu naključne uteži kar nam omogoča `randomize_weights` funkcija.\n",
    "\n",
    "\n",
    "### Minimizacija konfliktov:\n",
    "\n",
    "Naj bo $c = (u, v)$ konflikt. Edini način, da rešimo konflikt $c$ in ohranimo obstoječo utežitev na povezavi $(u,v)$ je s spremembo utežitve na eni izmed naslednjih povezav:\n",
    "$$E_{c} = (\\{u\\} \\times N(u)) \\cup (\\{v\\} \\times N(v)) \\setminus \\{(u, v)\\}$$\n",
    "\n",
    "Za vsako povezavo $e \\in E_c$ spremenimo utež na tej povezavi. Zraven seveda popravimo celotno strukturo grafa, ter zabeležimo število kofliktov pred in po spremembi utežitve. Obravnavamo povezavo, ki najbolj zmanjša skupno ševilo konfliktov. V kolokor je po tej spremembi skupno število strogo manjšo kot pred spremembo, to spremembo tudi izvedemo. Drugače vrnemo false in grafa ne rešujemo naprej.\n",
    "\n",
    "Možna izboljšava: Trenutno utež popravim na neko vrednost, ki je različna ob obstoječe. Smiselno bi bilo probati obe veljavni spremembi in si zabeležiti rezultate pri obeh.\n",
    "\n",
    "\n",
    "### Branching (+ local search)\n",
    "\n",
    "V tem primeru želimo v najslabšem primeru preveriti vse grafe in vrniti false, v kolikor ne obstaja utežitev za ta graf (tak rezultat seveda ni pričakovan in bi pomenil, da domneva ne velja. Vendar trenutno je morda kje še kakšna napaka in bi tak rezultat bil bolj povod za iskanje napake).\n",
    "Tega se lotimo na naslednji način:\n",
    "* Nastavimo naključne uteži\n",
    "* Minimiziramo konflikte z prejšnjim algoritmom.\n",
    "* V kolikor utežitev ni veljavna, vzamemo povezavo, ki je še nismo označili ter problem razdelimo na 3 podprobleme ter jih rekurzivno rešimo. Vsak podproblem torej zopet najprej minimiziramo oz. poizkušamo rešit z zgornjim algoritmom (minimiziranje morda ni najboljša beseda, saj minimalno število konfliktov še ne pomeni nujno tega, da smo blizu rešitve). \n",
    "* Pri reševanju podproblemov z zgornjim algoritmom smo posebaj pozorni na reševanje posameznega konflikta. Naj bo $H$ množica *označenih* povezav, ki smo jih nastavili pred rekurzivnimi klici. V koliko obstaja konflikt $c$ za katerega je $E_c \\cap H$ prazna množica, potem ta konflikt ni rešljiv z dosedanjo označitvijo povezav zato lahko to vejo izvajanja zaključimo. To storimo z klicem `UnsolvableConflictException`.\n",
    "\n"
   ]
  },
  {
   "cell_type": "markdown",
   "metadata": {},
   "source": [
    "### Rezultati za n = 8\n",
    "\n",
    "#### Local search\n",
    "\n",
    "V spodnji celici je napisana zanka, ki poizkuša vsak graf iz seznama G rešiti s pomočjo *local search* algoritma."
   ]
  },
  {
   "cell_type": "code",
   "execution_count": 6,
   "metadata": {},
   "outputs": [
    {
     "name": "stdout",
     "output_type": "stream",
     "text": [
      "11117\n",
      "1251\n",
      "It takes 3.4026620388031006 seconds to solve it!\n"
     ]
    }
   ],
   "source": [
    "l = None\n",
    "print(len(G))\n",
    "not_solvable = []\n",
    "start_time = time.time()\n",
    "for i in range(len(G)):\n",
    "    g = Graph(G[i])\n",
    "    g.randomize_weights()\n",
    "    if len(g.conflicts) != 0:\n",
    "        succ = g.solve()\n",
    "        if succ == False:\n",
    "            not_solvable.append(i)\n",
    "            l=g\n",
    "           \n",
    "print(len(not_solvable))\n",
    "print('It takes {0} seconds to solve it!'.format(str( time.time() - start_time)))"
   ]
  },
  {
   "cell_type": "markdown",
   "metadata": {},
   "source": [
    "* **Vseh grafov**: 11117\n",
    "* **Neuspešno rešenih**: 1251\n",
    "* **Čas**: 3.4s"
   ]
  },
  {
   "cell_type": "markdown",
   "metadata": {},
   "source": [
    "#### Branching (+ local search)\n",
    "Sedaj rešimo še isti nabor grafov, kjer uporabljamo *branching* na uteži na povezavah in v najslabšem primeru pregledamo vse možne utežitve."
   ]
  },
  {
   "cell_type": "code",
   "execution_count": 7,
   "metadata": {},
   "outputs": [
    {
     "name": "stdout",
     "output_type": "stream",
     "text": [
      "11117\n",
      "0\n",
      "It takes 3.6536648273468018 seconds to solve it!\n"
     ]
    }
   ],
   "source": [
    "l = None\n",
    "print(len(G))\n",
    "not_solvable = []\n",
    "start_time = time.time()\n",
    "for i in range(len(G)):\n",
    "    g = Graph(G[i])\n",
    "    g.randomize_weights()\n",
    "    if len(g.conflicts) != 0:\n",
    "        succ = solve_recursive(g)\n",
    "        if succ == False:\n",
    "            not_solvable.append(i)\n",
    "            l=g\n",
    "           \n",
    "print(len(not_solvable))\n",
    "print('It takes {0} seconds to solve it!'.format(str( time.time() - start_time)))"
   ]
  },
  {
   "cell_type": "markdown",
   "metadata": {},
   "source": [
    "* **Vseh grafov**: 11117\n",
    "* **Neuspešno rešenih**: 0\n",
    "* **Čas**: 3.6s"
   ]
  },
  {
   "cell_type": "markdown",
   "metadata": {},
   "source": [
    "## Rezultati (za n=9)\n",
    "\n",
    "#### Local search"
   ]
  },
  {
   "cell_type": "code",
   "execution_count": 9,
   "metadata": {},
   "outputs": [],
   "source": [
    "G = read_graph6(\"graph_examples/graphs_9.txt\")"
   ]
  },
  {
   "cell_type": "code",
   "execution_count": 10,
   "metadata": {},
   "outputs": [
    {
     "name": "stdout",
     "output_type": "stream",
     "text": [
      "261080\n",
      "26694\n",
      "It takes 100.60344529151917 seconds to solve it!\n"
     ]
    }
   ],
   "source": [
    "l = None\n",
    "print(len(G))\n",
    "not_solvable = []\n",
    "start_time = time.time()\n",
    "for i in range(len(G)):\n",
    "    g = Graph(G[i])\n",
    "    g.randomize_weights()\n",
    "    if len(g.conflicts) != 0:\n",
    "        succ = g.solve()\n",
    "        if succ == False:\n",
    "            not_solvable.append(i)\n",
    "            l=g\n",
    "           \n",
    "print(len(not_solvable))\n",
    "print('It takes {0} seconds to solve it!'.format(str( time.time() - start_time)))"
   ]
  },
  {
   "cell_type": "markdown",
   "metadata": {},
   "source": [
    "* **Vseh grafov**: 261080\n",
    "* **Neuspešno rešenih**: 26694\n",
    "* **Čas**: 100.1s"
   ]
  },
  {
   "cell_type": "markdown",
   "metadata": {},
   "source": [
    "#### Branching (+ local search)"
   ]
  },
  {
   "cell_type": "code",
   "execution_count": 11,
   "metadata": {},
   "outputs": [
    {
     "name": "stdout",
     "output_type": "stream",
     "text": [
      "261080\n",
      "0\n",
      "It takes 108.85072922706604 seconds to solve it!\n"
     ]
    }
   ],
   "source": [
    "l = None\n",
    "print(len(G))\n",
    "not_solvable = []\n",
    "start_time = time.time()\n",
    "for i in range(len(G)):\n",
    "    g = Graph(G[i])\n",
    "    g.randomize_weights()\n",
    "    if len(g.conflicts) != 0:\n",
    "        succ = solve_recursive(g)\n",
    "        if succ == False:\n",
    "            not_solvable.append(i)\n",
    "            l=g\n",
    "           \n",
    "print(len(not_solvable))\n",
    "print('It takes {0} seconds to solve it!'.format(str( time.time() - start_time)))"
   ]
  },
  {
   "cell_type": "markdown",
   "metadata": {},
   "source": [
    "* **Vseh grafov**: 261080\n",
    "* **Neuspešno rešenih**: 0\n",
    "* **Čas**: 108.1s"
   ]
  },
  {
   "cell_type": "code",
   "execution_count": null,
   "metadata": {},
   "outputs": [],
   "source": []
  }
 ],
 "metadata": {
  "kernelspec": {
   "display_name": "Python 3",
   "language": "python",
   "name": "python3"
  },
  "language_info": {
   "codemirror_mode": {
    "name": "ipython",
    "version": 3
   },
   "file_extension": ".py",
   "mimetype": "text/x-python",
   "name": "python",
   "nbconvert_exporter": "python",
   "pygments_lexer": "ipython3",
   "version": "3.7.4"
  }
 },
 "nbformat": 4,
 "nbformat_minor": 2
}
