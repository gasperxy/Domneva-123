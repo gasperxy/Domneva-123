{
 "cells": [
  {
   "cell_type": "code",
   "execution_count": 1,
   "metadata": {},
   "outputs": [],
   "source": [
    "from Graph import *\n",
    "import time"
   ]
  },
  {
   "cell_type": "markdown",
   "metadata": {},
   "source": [
    "## Vhodni podatki\n",
    "\n",
    "Vhodne podatke preberemo iz datoteke, ki smo jo naredili s pomočjo nauty traces in ukaza geng -c n "
   ]
  },
  {
   "cell_type": "code",
   "execution_count": 2,
   "metadata": {},
   "outputs": [],
   "source": [
    "G = read_graph6(\"graph_examples/graphs_8.txt\")\n"
   ]
  },
  {
   "cell_type": "markdown",
   "metadata": {},
   "source": [
    "## Reševanje problema\n",
    "\n",
    "Za vsak graf v seznamu `G` naredimo:\n",
    "* Nastavimo naključne začetne uteži\n",
    "* V kolikor obstajajo konflikti jih poizkušimo rešit s pomočjo *local search* algoritma. Kot parameter lahko dodamo tudi maksimalno globino\n",
    "* V kolikor algoritem ne odstrani vseh konfliktov, si graf (oz njegov indeks) shranimo v seznam `not_solvable`.\n",
    "\n"
   ]
  },
  {
   "cell_type": "markdown",
   "metadata": {},
   "source": [
    "### Rezultati za n = 8\n",
    "\n",
    "#### Local search\n",
    "\n",
    "V spodnji celici je napisana zanka, ki poizkuša vsak graf iz seznama G rešiti s pomočjo *local search* algoritma."
   ]
  },
  {
   "cell_type": "code",
   "execution_count": 6,
   "metadata": {},
   "outputs": [
    {
     "name": "stdout",
     "output_type": "stream",
     "text": [
      "11117\n",
      "1251\n",
      "It takes 3.4026620388031006 seconds to solve it!\n"
     ]
    }
   ],
   "source": [
    "l = None\n",
    "print(len(G))\n",
    "not_solvable = []\n",
    "start_time = time.time()\n",
    "for i in range(len(G)):\n",
    "    g = Graph(G[i])\n",
    "    g.randomize_weights()\n",
    "    if len(g.conflicts) != 0:\n",
    "        succ = g.solve()\n",
    "        if succ == False:\n",
    "            not_solvable.append(i)\n",
    "            l=g\n",
    "           \n",
    "print(len(not_solvable))\n",
    "print('It takes {0} seconds to solve it!'.format(str( time.time() - start_time)))"
   ]
  },
  {
   "cell_type": "markdown",
   "metadata": {},
   "source": [
    "* **Vseh grafov**: 11117\n",
    "* **Neuspešno rešenih**: 1251\n",
    "* **Čas**: 3.4s"
   ]
  },
  {
   "cell_type": "markdown",
   "metadata": {},
   "source": [
    "#### Branching (+ local search)\n",
    "Sedaj rešimo še isti nabor grafov, kjer uporabljamo *branching* na uteži na povezavah in v najslabšem primeru pregledamo vse možne utežitve."
   ]
  },
  {
   "cell_type": "code",
   "execution_count": 7,
   "metadata": {},
   "outputs": [
    {
     "name": "stdout",
     "output_type": "stream",
     "text": [
      "11117\n",
      "0\n",
      "It takes 3.6536648273468018 seconds to solve it!\n"
     ]
    }
   ],
   "source": [
    "l = None\n",
    "print(len(G))\n",
    "not_solvable = []\n",
    "start_time = time.time()\n",
    "for i in range(len(G)):\n",
    "    g = Graph(G[i])\n",
    "    g.randomize_weights()\n",
    "    if len(g.conflicts) != 0:\n",
    "        succ = solve_recursive(g)\n",
    "        if succ == False:\n",
    "            not_solvable.append(i)\n",
    "            l=g\n",
    "           \n",
    "print(len(not_solvable))\n",
    "print('It takes {0} seconds to solve it!'.format(str( time.time() - start_time)))"
   ]
  },
  {
   "cell_type": "markdown",
   "metadata": {},
   "source": [
    "* **Vseh grafov**: 11117\n",
    "* **Neuspešno rešenih**: 0\n",
    "* **Čas**: 3.6s"
   ]
  },
  {
   "cell_type": "markdown",
   "metadata": {},
   "source": [
    "## Rezultati (za n=9)\n",
    "\n",
    "#### Local search"
   ]
  },
  {
   "cell_type": "code",
   "execution_count": 9,
   "metadata": {},
   "outputs": [],
   "source": [
    "G = read_graph6(\"graph_examples/graphs_9.txt\")"
   ]
  },
  {
   "cell_type": "code",
   "execution_count": null,
   "metadata": {},
   "outputs": [
    {
     "name": "stdout",
     "output_type": "stream",
     "text": [
      "261080\n"
     ]
    }
   ],
   "source": [
    "l = None\n",
    "print(len(G))\n",
    "not_solvable = []\n",
    "start_time = time.time()\n",
    "for i in range(len(G)):\n",
    "    g = Graph(G[i])\n",
    "    g.randomize_weights()\n",
    "    if len(g.conflicts) != 0:\n",
    "        succ = g.solve()\n",
    "        if succ == False:\n",
    "            not_solvable.append(i)\n",
    "            l=g\n",
    "           \n",
    "print(len(not_solvable))\n",
    "print('It takes {0} seconds to solve it!'.format(str( time.time() - start_time)))"
   ]
  },
  {
   "cell_type": "markdown",
   "metadata": {},
   "source": [
    "* **Vseh grafov**: 11117\n",
    "* **Neuspešno rešenih**: 0\n",
    "* **Čas**: 3.6s"
   ]
  },
  {
   "cell_type": "markdown",
   "metadata": {},
   "source": [
    "#### Branching (+ local search)"
   ]
  },
  {
   "cell_type": "code",
   "execution_count": null,
   "metadata": {},
   "outputs": [],
   "source": [
    "l = None\n",
    "print(len(G))\n",
    "not_solvable = []\n",
    "start_time = time.time()\n",
    "for i in range(len(G)):\n",
    "    g = Graph(G[i])\n",
    "    g.randomize_weights()\n",
    "    if len(g.conflicts) != 0:\n",
    "        succ = solve_recursive(g)\n",
    "        if succ == False:\n",
    "            not_solvable.append(i)\n",
    "            l=g\n",
    "           \n",
    "print(len(not_solvable))\n",
    "print('It takes {0} seconds to solve it!'.format(str( time.time() - start_time)))"
   ]
  },
  {
   "cell_type": "markdown",
   "metadata": {},
   "source": []
  }
 ],
 "metadata": {
  "kernelspec": {
   "display_name": "Python 3",
   "language": "python",
   "name": "python3"
  },
  "language_info": {
   "codemirror_mode": {
    "name": "ipython",
    "version": 3
   },
   "file_extension": ".py",
   "mimetype": "text/x-python",
   "name": "python",
   "nbconvert_exporter": "python",
   "pygments_lexer": "ipython3",
   "version": "3.7.4"
  }
 },
 "nbformat": 4,
 "nbformat_minor": 2
}
